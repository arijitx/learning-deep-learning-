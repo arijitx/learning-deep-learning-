{
 "cells": [
  {
   "cell_type": "code",
   "execution_count": 29,
   "metadata": {
    "collapsed": true
   },
   "outputs": [],
   "source": [
    "import numpy as np\n",
    "import pandas as pd\n",
    "from matplotlib import pyplot as plt"
   ]
  },
  {
   "cell_type": "code",
   "execution_count": 30,
   "metadata": {},
   "outputs": [],
   "source": [
    "data=pd.read_csv('dataset/data.csv')\n",
    "def one_zero(x):\n",
    "    if x==-1:\n",
    "        return 0\n",
    "    return x\n",
    "data['label']=data['label'].apply(one_zero)"
   ]
  },
  {
   "cell_type": "code",
   "execution_count": 210,
   "metadata": {},
   "outputs": [],
   "source": [
    "def sigmoid(x):\n",
    "    return 1./(1+np.exp(-x))\n",
    "\n",
    "class input_layer():\n",
    "    def __init__(self,l):\n",
    "        self._x=np.zeros((1,l))\n",
    "\n",
    "class output_layer():\n",
    "    def __init__(self,l,activation=sigmoid):\n",
    "        self._y=np.zeros((1,l))\n",
    "        self._wts=[]\n",
    "        self._op=0\n",
    "        self._activation=activation\n",
    "    \n",
    "    def gen_o(self,x):\n",
    "        self._op=self._activation(np.dot(x,self._wts.T))\n",
    "        return self._op\n",
    "\n",
    "class unit():\n",
    "    def __init__(self,wt_l,activation):\n",
    "        self._wt=np.ones((1,wt_l))\n",
    "        self._activation=activation\n",
    "        self._ouput=0\n",
    "    \n",
    "    def gen_o(self,x):\n",
    "        self._output=self._activation(np.dot(x,self._wt.T))\n",
    "        return self._output\n",
    "\n",
    "class layer():\n",
    "    def __init__(self,units):\n",
    "        self._units=units\n",
    "        self._sigmas=[]\n",
    "        \n",
    "    def compute_sigmas(self):\n",
    "        sgm=[]\n",
    "        for u in self._units:\n",
    "            sgm.append(u._output)\n",
    "        self._sigmas=np.array(sgm).reshape((1,len(self._units)))\n",
    "        \n",
    "class neural_net():\n",
    "    def __init__(self,ip_l,op_l,layers,lr=0.001,max_iter=1000,activation='sigmoid'):\n",
    "        self._X=None\n",
    "        self._Y=None\n",
    "        self._lr=lr\n",
    "        self._max_ter=max_iter\n",
    "        self._input=input_layer(ip_l)\n",
    "        self._activation_name=activation\n",
    "        self._output=output_layer(op_l)\n",
    "        self._layers=[]\n",
    "        self._layers_dim=layers\n",
    "        self._output._wts=np.ones((1,layers[-1]))\n",
    "        if activation=='sigmoid':\n",
    "            activation=sigmoid\n",
    "        s=ip_l\n",
    "        for e in layers:\n",
    "            units=[]\n",
    "            for i in range(e):\n",
    "                units.append(unit(s,sigmoid))\n",
    "            self._layers.append(layer(units))\n",
    "            s=e\n",
    "    \n",
    "    def train(self,X,Y):\n",
    "        self._X=X\n",
    "        self._Y=Y\n",
    "    \n",
    "    def forward_prop(self,x):\n",
    "        self._input._x=x\n",
    "        x=self._input._x\n",
    "        for l in self._layers:\n",
    "            x_next=[]\n",
    "            for u in l._units:\n",
    "                x_next.append(u.gen_o(x))\n",
    "            x=np.array(x_next)\n",
    "            x=x.reshape((1,x.shape[0]))\n",
    "        self._output.gen_o(x)\n",
    "    \n",
    "    def back_prop(self,y):\n",
    "        #dE/d(sigma_j^L)\n",
    "        b=self._output._op\n",
    "        a=np.array(-y/b-(1-y)/(1-b)).reshape(1,1)\n",
    "        self._layers[-1].compute_sigmas()\n",
    "        c=a*b*(1-b)*self._layers[-1]._sigmas\n",
    "        self._output._wts-=self._lr*c\n",
    "        w=self._output._wts\n",
    "        l=1\n",
    "        for i in range(len(self._layers)):\n",
    "            layer=self._layers[len(self._layers)-1-i]\n",
    "            for i in range(l):\n",
    "                a=a*b*(1-b)*w\n",
    "            layer.compute_sigmas()\n",
    "            b=layer._sigmas\n",
    "            if(len(self._layers)-1-i==0):\n",
    "                d=self._input._x\n",
    "            else:\n",
    "                self._layer[len(self._layers)-2-i].compute_sigma()\n",
    "                d=self._layer[len(self._layers)-2-i].sigmas\n",
    "            c=a*b*(1-b)*d\n",
    "            self._layer[len(self._layers)-1-i]._wts-=self._lr*c\n",
    "            \n",
    "                \n",
    "                    \n",
    "    #https://gist.github.com/craffel/2d727968c3aaebd10359\n",
    "    def draw_nn(self, left=.1, right=.9, bottom=.1, top=.9):\n",
    "        fig = plt.figure(figsize=(10, 8))\n",
    "        ax = fig.gca()\n",
    "        ax.axis('off')\n",
    "        layer_sizes=[self._input._x.shape[1]]+self._layers_dim+[self._output._y.shape[1]]\n",
    "        n_layers = len(layer_sizes)\n",
    "        v_spacing = (top - bottom)/float(max(layer_sizes))\n",
    "        h_spacing = (right - left)/float(len(layer_sizes) - 1)\n",
    "        # Nodes\n",
    "        for n, layer_size in enumerate(layer_sizes):\n",
    "            col='w'\n",
    "            if n==0:\n",
    "                col='green'\n",
    "            if n==len(layer_sizes)-1:\n",
    "                col='red'\n",
    "            layer_top = v_spacing*(layer_size - 1)/2. + (top + bottom)/2.\n",
    "            for m in range(layer_size):\n",
    "                circle = plt.Circle((n*h_spacing + left, layer_top - m*v_spacing), v_spacing/4.,\n",
    "                                    color=col, ec='k', zorder=4)\n",
    "                ax.add_artist(circle)\n",
    "        # Edges\n",
    "        for n, (layer_size_a, layer_size_b) in enumerate(zip(layer_sizes[:-1], layer_sizes[1:])):\n",
    "            layer_top_a = v_spacing*(layer_size_a - 1)/2. + (top + bottom)/2.\n",
    "            layer_top_b = v_spacing*(layer_size_b - 1)/2. + (top + bottom)/2.\n",
    "            for m in range(layer_size_a):\n",
    "                for o in range(layer_size_b):\n",
    "                    line = plt.Line2D([n*h_spacing + left, (n + 1)*h_spacing + left],\n",
    "                                      [layer_top_a - m*v_spacing, layer_top_b - o*v_spacing], c='k')\n",
    "                    ax.add_artist(line)\n",
    "        plt.show()"
   ]
  },
  {
   "cell_type": "code",
   "execution_count": 211,
   "metadata": {},
   "outputs": [
    {
     "data": {
      "image/png": "[encoded data removed]",
      "text/plain": [
       "<matplotlib.figure.Figure at 0x7f800bf54358>"
      ]
     },
     "metadata": {},
     "output_type": "display_data"
    }
   ],
   "source": [
    "nn=neural_net(3,1,[2])\n",
    "nn.draw_nn()"
   ]
  },
  {
   "cell_type": "code",
   "execution_count": 212,
   "metadata": {},
   "outputs": [
    {
     "ename": "AttributeError",
     "evalue": "'neural_net' object has no attribute '_layer'",
     "output_type": "error",
     "traceback": [
      "\u001b[0;31m---------------------------------------------------------------------------\u001b[0m",
      "\u001b[0;31mAttributeError\u001b[0m                            Traceback (most recent call last)",
      "\u001b[0;32m<ipython-input-212-c888eb8b976f>\u001b[0m in \u001b[0;36m<module>\u001b[0;34m()\u001b[0m\n\u001b[1;32m      3\u001b[0m \u001b[0mX\u001b[0m\u001b[0;34m=\u001b[0m\u001b[0mnp\u001b[0m\u001b[0;34m.\u001b[0m\u001b[0mhstack\u001b[0m\u001b[0;34m(\u001b[0m\u001b[0;34m(\u001b[0m\u001b[0mX\u001b[0m\u001b[0;34m,\u001b[0m\u001b[0mnp\u001b[0m\u001b[0;34m.\u001b[0m\u001b[0mones\u001b[0m\u001b[0;34m(\u001b[0m\u001b[0mX\u001b[0m\u001b[0;34m.\u001b[0m\u001b[0mshape\u001b[0m\u001b[0;34m[\u001b[0m\u001b[0;36m0\u001b[0m\u001b[0;34m]\u001b[0m\u001b[0;34m)\u001b[0m\u001b[0;34m.\u001b[0m\u001b[0mreshape\u001b[0m\u001b[0;34m(\u001b[0m\u001b[0;34m(\u001b[0m\u001b[0mX\u001b[0m\u001b[0;34m.\u001b[0m\u001b[0mshape\u001b[0m\u001b[0;34m[\u001b[0m\u001b[0;36m0\u001b[0m\u001b[0;34m]\u001b[0m\u001b[0;34m,\u001b[0m\u001b[0;36m1\u001b[0m\u001b[0;34m)\u001b[0m\u001b[0;34m)\u001b[0m\u001b[0;34m)\u001b[0m\u001b[0;34m)\u001b[0m\u001b[0;34m\u001b[0m\u001b[0m\n\u001b[1;32m      4\u001b[0m \u001b[0mnn\u001b[0m\u001b[0;34m.\u001b[0m\u001b[0mforward_prop\u001b[0m\u001b[0;34m(\u001b[0m\u001b[0mX\u001b[0m\u001b[0;34m[\u001b[0m\u001b[0;36m0\u001b[0m\u001b[0;34m]\u001b[0m\u001b[0;34m.\u001b[0m\u001b[0mreshape\u001b[0m\u001b[0;34m(\u001b[0m\u001b[0;34m(\u001b[0m\u001b[0;36m1\u001b[0m\u001b[0;34m,\u001b[0m\u001b[0mX\u001b[0m\u001b[0;34m[\u001b[0m\u001b[0;36m0\u001b[0m\u001b[0;34m]\u001b[0m\u001b[0;34m.\u001b[0m\u001b[0mshape\u001b[0m\u001b[0;34m[\u001b[0m\u001b[0;36m0\u001b[0m\u001b[0;34m]\u001b[0m\u001b[0;34m)\u001b[0m\u001b[0;34m)\u001b[0m\u001b[0;34m)\u001b[0m\u001b[0;34m\u001b[0m\u001b[0m\n\u001b[0;32m----> 5\u001b[0;31m \u001b[0mnn\u001b[0m\u001b[0;34m.\u001b[0m\u001b[0mback_prop\u001b[0m\u001b[0;34m(\u001b[0m\u001b[0mY\u001b[0m\u001b[0;34m[\u001b[0m\u001b[0;36m0\u001b[0m\u001b[0;34m]\u001b[0m\u001b[0;34m)\u001b[0m\u001b[0;34m\u001b[0m\u001b[0m\n\u001b[0m",
      "\u001b[0;32m<ipython-input-210-555f3dcc6161>\u001b[0m in \u001b[0;36mback_prop\u001b[0;34m(self, y)\u001b[0m\n\u001b[1;32m     85\u001b[0m         \u001b[0ml\u001b[0m\u001b[0;34m=\u001b[0m\u001b[0;36m1\u001b[0m\u001b[0;34m\u001b[0m\u001b[0m\n\u001b[1;32m     86\u001b[0m         \u001b[0;32mfor\u001b[0m \u001b[0mi\u001b[0m \u001b[0;32min\u001b[0m \u001b[0mrange\u001b[0m\u001b[0;34m(\u001b[0m\u001b[0mlen\u001b[0m\u001b[0;34m(\u001b[0m\u001b[0mself\u001b[0m\u001b[0;34m.\u001b[0m\u001b[0m_layers\u001b[0m\u001b[0;34m)\u001b[0m\u001b[0;34m)\u001b[0m\u001b[0;34m:\u001b[0m\u001b[0;34m\u001b[0m\u001b[0m\n\u001b[0;32m---> 87\u001b[0;31m             \u001b[0mlayer\u001b[0m\u001b[0;34m=\u001b[0m\u001b[0mself\u001b[0m\u001b[0;34m.\u001b[0m\u001b[0m_layer\u001b[0m\u001b[0;34m[\u001b[0m\u001b[0mlen\u001b[0m\u001b[0;34m(\u001b[0m\u001b[0mself\u001b[0m\u001b[0;34m.\u001b[0m\u001b[0m_layers\u001b[0m\u001b[0;34m)\u001b[0m\u001b[0;34m-\u001b[0m\u001b[0;36m1\u001b[0m\u001b[0;34m-\u001b[0m\u001b[0mi\u001b[0m\u001b[0;34m]\u001b[0m\u001b[0;34m\u001b[0m\u001b[0m\n\u001b[0m\u001b[1;32m     88\u001b[0m             \u001b[0;32mfor\u001b[0m \u001b[0mi\u001b[0m \u001b[0;32min\u001b[0m \u001b[0mrange\u001b[0m\u001b[0;34m(\u001b[0m\u001b[0ml\u001b[0m\u001b[0;34m)\u001b[0m\u001b[0;34m:\u001b[0m\u001b[0;34m\u001b[0m\u001b[0m\n\u001b[1;32m     89\u001b[0m                 \u001b[0ma\u001b[0m\u001b[0;34m=\u001b[0m\u001b[0ma\u001b[0m\u001b[0;34m*\u001b[0m\u001b[0mb\u001b[0m\u001b[0;34m*\u001b[0m\u001b[0;34m(\u001b[0m\u001b[0;36m1\u001b[0m\u001b[0;34m-\u001b[0m\u001b[0mb\u001b[0m\u001b[0;34m)\u001b[0m\u001b[0;34m*\u001b[0m\u001b[0mw\u001b[0m\u001b[0;34m\u001b[0m\u001b[0m\n",
      "\u001b[0;31mAttributeError\u001b[0m: 'neural_net' object has no attribute '_layer'"
     ]
    }
   ],
   "source": [
    "X=data[['x','y']].as_matrix()\n",
    "Y=data[['label']].as_matrix()\n",
    "X=np.hstack((X,np.ones(X.shape[0]).reshape((X.shape[0],1))))\n",
    "nn.forward_prop(X[0].reshape((1,X[0].shape[0])))\n",
    "nn.back_prop(Y[0])\n"
   ]
  },
  {
   "cell_type": "code",
   "execution_count": 159,
   "metadata": {},
   "outputs": [
    {
     "data": {
      "text/plain": [
       "(1, 3)"
      ]
     },
     "execution_count": 159,
     "metadata": {},
     "output_type": "execute_result"
    }
   ],
   "source": [
    "X[0].reshape((1,X[0].shape[0])).shape"
   ]
  }
 ],
 "metadata": {
  "kernelspec": {
   "display_name": "Python 3",
   "language": "python",
   "name": "python3"
  },
  "language_info": {
   "codemirror_mode": {
    "name": "ipython",
    "version": 3
   },
   "file_extension": ".py",
   "mimetype": "text/x-python",
   "name": "python",
   "nbconvert_exporter": "python",
   "pygments_lexer": "ipython3",
   "version": "3.6.1"
  }
 },
 "nbformat": 4,
 "nbformat_minor": 2
}
