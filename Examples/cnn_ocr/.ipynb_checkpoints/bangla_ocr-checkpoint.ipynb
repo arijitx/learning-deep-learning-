{
 "cells": [
  {
   "cell_type": "markdown",
   "metadata": {},
   "source": [
    "## Dataset\n",
    "\n",
    "## <a href =\"https://data.mendeley.com/datasets/hf6sf8zrkc/2\">Bangla Lekha</a> \n",
    "I only took the digits from 0-9 \n",
    "There are almost 2000 samples 100x100 images of each image , we will use 1500 for training and the rest for training for each digit ."
   ]
  },
  {
   "cell_type": "code",
   "execution_count": 25,
   "metadata": {},
   "outputs": [],
   "source": [
    "import cv2\n",
    "import os\n",
    "import numpy as np"
   ]
  },
  {
   "cell_type": "code",
   "execution_count": 36,
   "metadata": {},
   "outputs": [],
   "source": [
    "def load_dataset(folder,size=30,randomize=True):\n",
    "    X_train=[]\n",
    "    Y_train=[]\n",
    "    X_test=[]\n",
    "    Y_test=[]\n",
    "    for file in os.listdir(folder):\n",
    "        for f in os.listdir(folder+'/'+file):\n",
    "            im=cv2.imread(folder+'/'+file+'/'+f,0)\n",
    "            im=cv2.resize(im,(size,size))\n",
    "            X.append(im)\n",
    "            Y.append(int(file))\n",
    "        print('loading . .',file)\n",
    "    randomidx=np.random.permutation(len(X))\n",
    "    X=np.array(X)\n",
    "    Y=np.array(Y)\n",
    "    X=X[randomidx]\n",
    "    Y=Y[randomidx]\n",
    "    return X,Y\n",
    "\n",
    "\n"
   ]
  },
  {
   "cell_type": "code",
   "execution_count": 37,
   "metadata": {},
   "outputs": [
    {
     "name": "stdout",
     "output_type": "stream",
     "text": [
      "loading . . 9\n",
      "loading . . 8\n",
      "loading . . 2\n",
      "loading . . 3\n",
      "loading . . 6\n",
      "loading . . 1\n",
      "loading . . 7\n",
      "loading . . 5\n",
      "loading . . 4\n",
      "loading . . 0\n"
     ]
    }
   ],
   "source": [
    "X,Y=load_dataset('dataset')"
   ]
  },
  {
   "cell_type": "code",
   "execution_count": 38,
   "metadata": {},
   "outputs": [
    {
     "name": "stdout",
     "output_type": "stream",
     "text": [
      "[0 9 6 1 6 0 0 9 8 2]\n"
     ]
    }
   ],
   "source": [
    "print(Y[:10])"
   ]
  }
 ],
 "metadata": {
  "kernelspec": {
   "display_name": "Python 3",
   "language": "python",
   "name": "python3"
  },
  "language_info": {
   "codemirror_mode": {
    "name": "ipython",
    "version": 3
   },
   "file_extension": ".py",
   "mimetype": "text/x-python",
   "name": "python",
   "nbconvert_exporter": "python",
   "pygments_lexer": "ipython3",
   "version": "3.6.1"
  }
 },
 "nbformat": 4,
 "nbformat_minor": 2
}
