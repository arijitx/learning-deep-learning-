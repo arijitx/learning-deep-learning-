{
 "cells": [
  {
   "cell_type": "markdown",
   "metadata": {},
   "source": [
    "## Dataset\n",
    "\n",
    "## <a href =\"https://data.mendeley.com/datasets/hf6sf8zrkc/2\">Bangla Lekha</a> \n",
    "I only took the digits from 0-9 \n",
    "There are almost 2000 samples 100x100 images of each image , we will use 1500 for training and the rest for training for each digit ."
   ]
  },
  {
   "cell_type": "code",
   "execution_count": 51,
   "metadata": {},
   "outputs": [],
   "source": [
    "import cv2\n",
    "import os\n",
    "import numpy as np\n",
    "\n",
    "import keras\n",
    "from keras.models import Sequential\n",
    "from keras.layers import Dense, Dropout, Flatten\n",
    "from keras.layers import Conv2D, MaxPooling2D\n"
   ]
  },
  {
   "cell_type": "code",
   "execution_count": 60,
   "metadata": {},
   "outputs": [],
   "source": [
    "def load_dataset(folder,size=30,randomize=True):\n",
    "    X_train=[]\n",
    "    Y_train=[]\n",
    "    X_test=[]\n",
    "    Y_test=[]\n",
    "    for file in os.listdir(folder):\n",
    "        x=[]\n",
    "        y=[]\n",
    "        for f in os.listdir(folder+'/'+file):\n",
    "            im=cv2.imread(folder+'/'+file+'/'+f,0)\n",
    "            im=cv2.resize(im,(size,size))\n",
    "            im=im/255.\n",
    "            im=np.reshape(im,(im.shape[0],im.shape[1],1))\n",
    "            x.append(im)\n",
    "            y.append(int(file))\n",
    "        X_train+=x[:1500]\n",
    "        Y_train+=y[:1500]\n",
    "        X_test+=x[1500:1900]\n",
    "        Y_test+=y[1500:1900]\n",
    "        print('loading . .',file)\n",
    "    X_train=np.array(X_train)\n",
    "    X_test=np.array(X_test)\n",
    "    Y_train=np.array(Y_train)\n",
    "    Y_test=np.array(Y_test)\n",
    "    return X_train,Y_train,X_test,Y_test\n",
    "\n",
    "\n"
   ]
  },
  {
   "cell_type": "code",
   "execution_count": 69,
   "metadata": {},
   "outputs": [
    {
     "name": "stdout",
     "output_type": "stream",
     "text": [
      "loading . . 9\n",
      "loading . . 8\n",
      "loading . . 2\n",
      "loading . . 3\n",
      "loading . . 6\n",
      "loading . . 1\n",
      "loading . . 7\n",
      "loading . . 5\n",
      "loading . . 4\n",
      "loading . . 0\n"
     ]
    }
   ],
   "source": [
    "X_train,Y_train,X_test,Y_test=load_dataset('dataset')\n",
    "Y_train = keras.utils.to_categorical(Y_train, num_classes)\n",
    "Y_test = keras.utils.to_categorical(Y_test, num_classes)"
   ]
  },
  {
   "cell_type": "code",
   "execution_count": 73,
   "metadata": {},
   "outputs": [
    {
     "name": "stdout",
     "output_type": "stream",
     "text": [
      "Train on 15000 samples, validate on 4000 samples\n",
      "Epoch 1/5\n",
      "15000/15000 [==============================] - 91s - loss: 0.7344 - acc: 0.7631 - val_loss: 0.3090 - val_acc: 0.9062\n",
      "Epoch 2/5\n",
      "15000/15000 [==============================] - 98s - loss: 0.3396 - acc: 0.8967 - val_loss: 0.2093 - val_acc: 0.9345\n",
      "Epoch 3/5\n",
      "15000/15000 [==============================] - 98s - loss: 0.2507 - acc: 0.9243 - val_loss: 0.1831 - val_acc: 0.9450\n",
      "Epoch 4/5\n",
      "15000/15000 [==============================] - 94s - loss: 0.2056 - acc: 0.9371 - val_loss: 0.1659 - val_acc: 0.9520\n",
      "Epoch 5/5\n",
      "15000/15000 [==============================] - 104s - loss: 0.1811 - acc: 0.9455 - val_loss: 0.1673 - val_acc: 0.9513\n"
     ]
    },
    {
     "data": {
      "text/plain": [
       "<keras.callbacks.History at 0x7f1fe3b7bf28>"
      ]
     },
     "execution_count": 73,
     "metadata": {},
     "output_type": "execute_result"
    }
   ],
   "source": [
    "input_shape=(30,30,1)\n",
    "num_classes=10\n",
    "batch_size=100\n",
    "epochs=5\n",
    "\n",
    "model = Sequential()\n",
    "model.add(Conv2D(32, kernel_size=(3, 3),\n",
    "                 activation='relu',\n",
    "                 input_shape=input_shape))\n",
    "model.add(Conv2D(64, (3, 3), activation='relu'))\n",
    "model.add(MaxPooling2D(pool_size=(2, 2)))\n",
    "model.add(Dropout(0.25))\n",
    "model.add(Flatten())\n",
    "model.add(Dense(128, activation='relu'))\n",
    "model.add(Dropout(0.5))\n",
    "model.add(Dense(num_classes, activation='softmax'))\n",
    "\n",
    "model.compile(loss=keras.losses.categorical_crossentropy,\n",
    "              optimizer=keras.optimizers.Adadelta(),\n",
    "              metrics=['accuracy'])\n",
    "\n",
    "model.fit(X_train, Y_train,\n",
    "          batch_size=batch_size,\n",
    "          epochs=epochs,\n",
    "          verbose=1,\n",
    "validation_data=(X_test, Y_test))"
   ]
  },
  {
   "cell_type": "code",
   "execution_count": 102,
   "metadata": {},
   "outputs": [],
   "source": [
    "model.save('model.h5')"
   ]
  }
 ],
 "metadata": {
  "kernelspec": {
   "display_name": "Python 3",
   "language": "python",
   "name": "python3"
  },
  "language_info": {
   "codemirror_mode": {
    "name": "ipython",
    "version": 3
   },
   "file_extension": ".py",
   "mimetype": "text/x-python",
   "name": "python",
   "nbconvert_exporter": "python",
   "pygments_lexer": "ipython3",
   "version": "3.6.1"
  }
 },
 "nbformat": 4,
 "nbformat_minor": 2
}
