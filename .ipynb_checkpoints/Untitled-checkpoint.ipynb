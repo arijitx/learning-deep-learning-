{
 "cells": [
  {
   "cell_type": "code",
   "execution_count": 3,
   "metadata": {},
   "outputs": [],
   "source": [
    "import torch\n",
    "from torch import nn\n",
    "\n",
    "from torch.autograd import Variable"
   ]
  },
  {
   "cell_type": "code",
   "execution_count": 27,
   "metadata": {},
   "outputs": [],
   "source": [
    "class myLSTM(nn.Module):\n",
    "    def __init__(self):\n",
    "        super(myLSTM,self).__init__()\n",
    "        self.lstm=nn.RNN(10,8,batch_first=True)\n",
    "        self.fc1=nn.Linear(8,10)\n",
    "    \n",
    "    def forward(self,x,h):\n",
    "        _,ht=self.lstm(x,h)\n",
    "        yt=self.fc1(ht)\n",
    "        return ht,yt\n"
   ]
  },
  {
   "cell_type": "code",
   "execution_count": 28,
   "metadata": {},
   "outputs": [],
   "source": [
    "lstm=myLSTM()"
   ]
  },
  {
   "cell_type": "code",
   "execution_count": 29,
   "metadata": {},
   "outputs": [],
   "source": [
    "x=Variable(torch.randn(1,3,10))\n",
    "h0=Variable(torch.zeros(1,1,8))"
   ]
  },
  {
   "cell_type": "code",
   "execution_count": 36,
   "metadata": {},
   "outputs": [
    {
     "name": "stdout",
     "output_type": "stream",
     "text": [
      "[Variable containing:\n",
      "(0 ,.,.) = \n",
      "\n",
      "Columns 0 to 8 \n",
      "  -0.2121  0.5795  0.5498  0.5306  0.1269  0.0366 -0.1565  0.1505 -0.2308\n",
      "\n",
      "Columns 9 to 9 \n",
      "  -0.0513\n",
      "[torch.FloatTensor of size 1x1x10]\n",
      ", Variable containing:\n",
      "(0 ,.,.) = \n",
      "\n",
      "Columns 0 to 8 \n",
      "  -0.5941  0.2936  0.5043  0.7413  0.3555  0.4854 -0.2308  0.2931  0.3337\n",
      "\n",
      "Columns 9 to 9 \n",
      "  -0.1061\n",
      "[torch.FloatTensor of size 1x1x10]\n",
      ", Variable containing:\n",
      "(0 ,.,.) = \n",
      "\n",
      "Columns 0 to 8 \n",
      "  -0.0309 -0.0883  0.1829 -0.4907 -0.6790 -0.3727  0.3145 -0.4395 -0.1597\n",
      "\n",
      "Columns 9 to 9 \n",
      "   0.2095\n",
      "[torch.FloatTensor of size 1x1x10]\n",
      "]\n"
     ]
    }
   ],
   "source": [
    "y=[]\n",
    "ht=h0\n",
    "for i in range(x.size()[1]):\n",
    "    xt=x[0][i].view(1,1,10)\n",
    "    ht,yt=lstm(xt,ht)\n",
    "    y.append(yt)\n",
    "\n",
    "print(y)"
   ]
  },
  {
   "cell_type": "code",
   "execution_count": 37,
   "metadata": {},
   "outputs": [],
   "source": [
    "class myLSTM(nn.Module):\n",
    "    def __init__(self):\n",
    "        super(myLSTM,self).__init__()\n",
    "        self.lstm=nn.RNN(10,8,batch_first=True)\n",
    "        self.fc1=nn.Linear(8,10)\n",
    "    \n",
    "    def forward(self,x,h):\n",
    "        output,ht=self.lstm(x,h)\n",
    "        yt=self.fc1(output)\n",
    "        return ht,yt"
   ]
  },
  {
   "cell_type": "code",
   "execution_count": 39,
   "metadata": {},
   "outputs": [
    {
     "name": "stdout",
     "output_type": "stream",
     "text": [
      "Variable containing:\n",
      "(0 ,.,.) = \n",
      "\n",
      "Columns 0 to 8 \n",
      "  -0.0763  0.0782 -0.3552 -0.8112  0.6388 -0.0890 -0.2859  0.0900 -0.1450\n",
      "  0.1739 -0.1272  0.0422 -0.4250  0.1403  0.2470  0.1543  0.0354 -0.3889\n",
      "  0.2055 -0.0158 -0.0797  0.0525 -0.0371 -0.4256 -0.6823  0.1386 -0.4201\n",
      "\n",
      "Columns 9 to 9 \n",
      "  -0.6477\n",
      " -0.3981\n",
      "  0.1629\n",
      "[torch.FloatTensor of size 1x3x10]\n",
      "\n",
      "Variable containing:\n",
      "(0 ,.,.) = \n",
      " -0.0369 -0.4032 -0.8559 -0.1616 -0.7526  0.4946  0.3820 -0.7616\n",
      "[torch.FloatTensor of size 1x1x8]\n",
      "\n"
     ]
    }
   ],
   "source": [
    "\n",
    "hn,y=lstm2(x,h0)\n",
    "print(y)\n",
    "print(hn)"
   ]
  },
  {
   "cell_type": "code",
   "execution_count": 49,
   "metadata": {},
   "outputs": [],
   "source": [
    "criterion=nn.CrossEntropyLoss()\n",
    "\n",
    "true_y=Variable(torch.LongTensor([1,2,3])).view(3)\n",
    "pred_y=y.view(3,10)\n",
    "\n"
   ]
  },
  {
   "cell_type": "code",
   "execution_count": 50,
   "metadata": {},
   "outputs": [],
   "source": [
    "loss=criterion(pred_y,true_y)"
   ]
  },
  {
   "cell_type": "code",
   "execution_count": 52,
   "metadata": {},
   "outputs": [],
   "source": [
    "loss.backward()"
   ]
  },
  {
   "cell_type": "code",
   "execution_count": 66,
   "metadata": {},
   "outputs": [],
   "source": [
    "from torch import optim\n",
    "\n",
    "optimizer=optim.Adam(lstm2.parameters(),lr=0.000001)\n",
    "criterion=nn.CrossEntropyLoss()\n",
    "lstm2=myLSTM()"
   ]
  },
  {
   "cell_type": "code",
   "execution_count": 68,
   "metadata": {},
   "outputs": [
    {
     "name": "stdout",
     "output_type": "stream",
     "text": [
      "Variable containing:\n",
      " 2.2802\n",
      "[torch.FloatTensor of size 1]\n",
      "\n",
      "Variable containing:\n",
      " 2.2210\n",
      "[torch.FloatTensor of size 1]\n",
      "\n",
      "Variable containing:\n",
      " 2.0504\n",
      "[torch.FloatTensor of size 1]\n",
      "\n"
     ]
    }
   ],
   "source": [
    "for i in range(3):\n",
    "    x=Variable(torch.randn(1,3,10))\n",
    "    h0=Variable(torch.zeros(1,1,8))\n",
    "    hn,y=lstm2(x,h0)\n",
    "    true_y=Variable(torch.LongTensor([1,2,3])).view(3)\n",
    "    pred_y=y.view(3,10)\n",
    "    loss=criterion(pred_y,true_y)\n",
    "    print(loss)\n",
    "    lstm2.zero_grad()\n",
    "    loss.backward()\n",
    "    optimizer.step()"
   ]
  },
  {
   "cell_type": "code",
   "execution_count": 83,
   "metadata": {},
   "outputs": [
    {
     "data": {
      "text/plain": [
       "Variable containing:\n",
       " 5  2  2  6\n",
       "[torch.LongTensor of size 1x4]"
      ]
     },
     "execution_count": 83,
     "metadata": {},
     "output_type": "execute_result"
    }
   ],
   "source": [
    "hn,yt=lstm2(Variable(torch.randn(1,4,10)),h0)\n",
    "\n",
    "softmax=nn.Softmax(dim=2)\n",
    "softmax(yt).max(dim=2)[1]"
   ]
  }
 ],
 "metadata": {
  "kernelspec": {
   "display_name": "Python 3",
   "language": "python",
   "name": "python3"
  },
  "language_info": {
   "codemirror_mode": {
    "name": "ipython",
    "version": 3
   },
   "file_extension": ".py",
   "mimetype": "text/x-python",
   "name": "python",
   "nbconvert_exporter": "python",
   "pygments_lexer": "ipython3",
   "version": "3.5.2"
  }
 },
 "nbformat": 4,
 "nbformat_minor": 2
}
