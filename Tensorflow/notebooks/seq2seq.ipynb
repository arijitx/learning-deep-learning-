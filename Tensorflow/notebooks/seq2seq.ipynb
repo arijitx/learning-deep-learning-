{
 "cells": [
  {
   "cell_type": "markdown",
   "metadata": {},
   "source": [
    "# Sorting Fixed Sized Arrays with Encoder Decoder LSTMs\n",
    "\n",
    "Here we generate random fixed sized arrays and their sorted versions, then we train a encoder-decoder lstm . \n",
    "\n",
    "Based on https://github.com/ematvey/tensorflow-seq2seq-tutorials/blob/master/1-seq2seq.ipynb\n"
   ]
  },
  {
   "cell_type": "code",
   "execution_count": 1,
   "metadata": {
    "collapsed": true
   },
   "outputs": [],
   "source": [
    "###############################################\n",
    "#               CREATE DATASET                #\n",
    "###############################################\n",
    "\n",
    "import random\n",
    "import numpy as np\n",
    "import pickle\n"
   ]
  },
  {
   "cell_type": "code",
   "execution_count": 166,
   "metadata": {},
   "outputs": [
    {
     "name": "stdout",
     "output_type": "stream",
     "text": [
      "0 Done\n"
     ]
    }
   ],
   "source": [
    "n_size=8\n",
    "min_num=0\n",
    "max_num=9\n",
    "n_samples=1000\n",
    "\n",
    "print_step=10000\n",
    "\n",
    "X=[]\n",
    "Y=[]\n",
    "\n",
    "for i in range(n_samples):\n",
    "    k=[]\n",
    "    for j in range(n_size):\n",
    "        s=random.randint(min_num,max_num)\n",
    "        k.append(s)\n",
    "    k=np.array(k)\n",
    "    Y.append(np.array(sorted(k)))\n",
    "    X.append(np.array(k))\n",
    "    \n",
    "    if(i%print_step==0):\n",
    "        print(i,'Done')\n",
    "    \n",
    "X=np.array(X).T\n",
    "Y=np.array(Y).T\n",
    "\n",
    "data={}\n",
    "data['X']=X\n",
    "data['Y']=Y\n",
    "\n",
    "with open('data/sort_data.data','wb') as f:\n",
    "    pickle.dump(data, f, protocol=pickle.HIGHEST_PROTOCOL)\n",
    "\n"
   ]
  },
  {
   "cell_type": "code",
   "execution_count": 167,
   "metadata": {
    "collapsed": true
   },
   "outputs": [],
   "source": [
    "def get_next_batch(X,Y,idx,batch_size=200):\n",
    "    return X[:,idx*batch_size:(idx+1)*batch_size],np.ones((n_size,batch_size)),Y[:,idx*batch_size:(idx+1)*batch_size]"
   ]
  },
  {
   "cell_type": "code",
   "execution_count": 189,
   "metadata": {
    "collapsed": true
   },
   "outputs": [],
   "source": [
    "import numpy as np\n",
    "import tensorflow as tf\n",
    "\n",
    "tf.reset_default_graph()\n",
    "sess = tf.InteractiveSession()"
   ]
  },
  {
   "cell_type": "code",
   "execution_count": 190,
   "metadata": {
    "collapsed": true
   },
   "outputs": [],
   "source": [
    "## define model params\n",
    "\n",
    "vocab_size = 10\n",
    "input_embedding_size = 20\n",
    "\n",
    "encoder_hidden_units = 10\n",
    "decoder_hidden_units = encoder_hidden_units\n"
   ]
  },
  {
   "cell_type": "code",
   "execution_count": 191,
   "metadata": {
    "collapsed": true
   },
   "outputs": [],
   "source": [
    "#setting encoder and decoder inputs and decoder traget\n",
    "\n",
    "\n",
    "encoder_inputs = tf.placeholder(shape=(None, None), dtype=tf.int32, name='encoder_inputs')\n",
    "decoder_targets = tf.placeholder(shape=(None, None), dtype=tf.int32, name='decoder_targets')\n",
    "\n",
    "decoder_inputs = tf.placeholder(shape=(None, None), dtype=tf.int32, name='decoder_inputs')"
   ]
  },
  {
   "cell_type": "code",
   "execution_count": 192,
   "metadata": {
    "collapsed": true
   },
   "outputs": [],
   "source": [
    "## define embedding matrix\n",
    "\n",
    "embeddings = tf.Variable(tf.random_uniform([vocab_size, input_embedding_size], -1.0, 1.0), dtype=tf.float32)\n",
    "\n",
    "\n",
    "encoder_inputs_embedded = tf.nn.embedding_lookup(embeddings, encoder_inputs)\n",
    "decoder_inputs_embedded = tf.nn.embedding_lookup(embeddings, decoder_inputs)"
   ]
  },
  {
   "cell_type": "code",
   "execution_count": 193,
   "metadata": {
    "collapsed": true
   },
   "outputs": [],
   "source": [
    "## Encoder cell\n",
    "\n",
    "encoder_cell = tf.contrib.rnn.LSTMCell(encoder_hidden_units)\n",
    "\n",
    "encoder_outputs, encoder_final_state = tf.nn.dynamic_rnn(\n",
    "    encoder_cell, encoder_inputs_embedded,\n",
    "    dtype=tf.float32, time_major=True,\n",
    ")\n",
    "\n",
    "del encoder_outputs"
   ]
  },
  {
   "cell_type": "code",
   "execution_count": 194,
   "metadata": {
    "collapsed": true
   },
   "outputs": [],
   "source": [
    "## Decoder cell\n",
    "\n",
    "decoder_cell = tf.contrib.rnn.LSTMCell(decoder_hidden_units)\n",
    "\n",
    "decoder_outputs, decoder_final_state = tf.nn.dynamic_rnn(\n",
    "    decoder_cell, decoder_inputs_embedded,\n",
    "\n",
    "    initial_state=encoder_final_state,\n",
    "\n",
    "    dtype=tf.float32, time_major=True, scope=\"plain_decoder\",\n",
    ")"
   ]
  },
  {
   "cell_type": "code",
   "execution_count": 195,
   "metadata": {
    "collapsed": true
   },
   "outputs": [],
   "source": [
    "decoder_logits = tf.contrib.layers.linear(decoder_outputs, vocab_size)\n",
    "\n",
    "decoder_prediction = tf.argmax(decoder_logits, 2)\n",
    "\n",
    "\n",
    "## Optimizer and loss defination\n",
    "stepwise_cross_entropy = tf.nn.softmax_cross_entropy_with_logits(\n",
    "    labels=tf.one_hot(decoder_targets, depth=vocab_size, dtype=tf.float32),\n",
    "    logits=decoder_logits,\n",
    ")\n",
    "\n",
    "loss = tf.reduce_mean(stepwise_cross_entropy)\n",
    "train_op = tf.train.AdamOptimizer().minimize(loss)\n"
   ]
  },
  {
   "cell_type": "code",
   "execution_count": 196,
   "metadata": {
    "collapsed": true
   },
   "outputs": [],
   "source": [
    "sess.run(tf.global_variables_initializer())\n"
   ]
  },
  {
   "cell_type": "code",
   "execution_count": 197,
   "metadata": {},
   "outputs": [
    {
     "data": {
      "text/plain": [
       "array([[0, 9, 7, ..., 7, 8, 7],\n",
       "       [0, 9, 0, ..., 9, 0, 7],\n",
       "       [0, 9, 0, ..., 0, 0, 1],\n",
       "       ..., \n",
       "       [0, 0, 0, ..., 1, 0, 1],\n",
       "       [1, 1, 0, ..., 1, 1, 1],\n",
       "       [1, 1, 1, ..., 1, 1, 1]])"
      ]
     },
     "execution_count": 197,
     "metadata": {},
     "output_type": "execute_result"
    }
   ],
   "source": [
    "## test forward pass\n",
    "enc_x,dec_x,y=get_next_batch(X,Y,0)\n",
    "pred=sess.run(decoder_prediction,feed_dict={encoder_inputs:enc_x,decoder_inputs:dec_x})\n",
    "pred"
   ]
  },
  {
   "cell_type": "code",
   "execution_count": 198,
   "metadata": {},
   "outputs": [
    {
     "name": "stdout",
     "output_type": "stream",
     "text": [
      "EPoch 0 Loss 2.3402\n",
      "EPoch 50 Loss 1.10886\n",
      "EPoch 100 Loss 0.715226\n",
      "EPoch 150 Loss 0.507615\n",
      "EPoch 200 Loss 0.393419\n",
      "EPoch 250 Loss 0.321735\n",
      "EPoch 300 Loss 0.269783\n",
      "EPoch 350 Loss 0.219873\n",
      "EPoch 400 Loss 0.160317\n",
      "EPoch 450 Loss 0.119732\n",
      "EPoch 500 Loss 0.0943859\n",
      "EPoch 550 Loss 0.0757743\n",
      "EPoch 600 Loss 0.0617971\n",
      "EPoch 650 Loss 0.0509758\n",
      "EPoch 700 Loss 0.0425261\n",
      "EPoch 750 Loss 0.0358582\n",
      "EPoch 800 Loss 0.0305088\n",
      "EPoch 850 Loss 0.0261453\n",
      "EPoch 900 Loss 0.0225305\n",
      "EPoch 950 Loss 0.0194943\n"
     ]
    }
   ],
   "source": [
    "## train model\n",
    "\n",
    "batch_size=200\n",
    "num_batches=int(X.shape[1]/batch_size)\n",
    "n_epochs=1000\n",
    "print_batch=50\n",
    "loss_track=[]\n",
    "\n",
    "for i in range(n_epochs):\n",
    "    for j in range(num_batches):\n",
    "        enc_x,dec_x,y=get_next_batch(X,Y,j)\n",
    "        #print(enc_x.shape,dec_x.shape,y.shape)\n",
    "        sess.run(train_op,feed_dict={encoder_inputs:enc_x,decoder_targets:y,decoder_inputs:dec_x})\n",
    "    l=sess.run(loss,feed_dict={encoder_inputs:enc_x,decoder_targets:y,decoder_inputs:dec_x})\n",
    "    loss_track.append(l)\n",
    "    if(i%print_batch==0):\n",
    "        print('EPoch',i,'Loss',l)\n"
   ]
  },
  {
   "cell_type": "code",
   "execution_count": 199,
   "metadata": {},
   "outputs": [
    {
     "data": {
      "image/png": "[encoded data removed]",
      "text/plain": [
       "<matplotlib.figure.Figure at 0x7f12962ea6a0>"
      ]
     },
     "metadata": {},
     "output_type": "display_data"
    }
   ],
   "source": [
    "from matplotlib import pyplot as plt\n",
    "\n",
    "plt.plot(loss_track)\n",
    "plt.show()"
   ]
  },
  {
   "cell_type": "code",
   "execution_count": 200,
   "metadata": {
    "collapsed": true
   },
   "outputs": [],
   "source": [
    "def predict(X):\n",
    "    enc_x=X.T\n",
    "    dec_x=np.ones((n_size,enc_x.shape[1]))\n",
    "    pred=sess.run(decoder_prediction,feed_dict={encoder_inputs:enc_x,decoder_inputs:dec_x})\n",
    "    print(X,pred.T)"
   ]
  },
  {
   "cell_type": "code",
   "execution_count": 205,
   "metadata": {},
   "outputs": [
    {
     "name": "stdout",
     "output_type": "stream",
     "text": [
      "[[9 0 1 0 1 0 1 9]] [[0 0 0 1 1 1 9 9]]\n"
     ]
    }
   ],
   "source": [
    "l=np.array([[9,0,1,0,1,0,1,9]])\n",
    "l.shape\n",
    "predict(l)"
   ]
  },
  {
   "cell_type": "code",
   "execution_count": null,
   "metadata": {
    "collapsed": true
   },
   "outputs": [],
   "source": []
  }
 ],
 "metadata": {
  "kernelspec": {
   "display_name": "Python 3",
   "language": "python",
   "name": "python3"
  },
  "language_info": {
   "codemirror_mode": {
    "name": "ipython",
    "version": 3
   },
   "file_extension": ".py",
   "mimetype": "text/x-python",
   "name": "python",
   "nbconvert_exporter": "python",
   "pygments_lexer": "ipython3",
   "version": "3.6.1"
  }
 },
 "nbformat": 4,
 "nbformat_minor": 2
}
