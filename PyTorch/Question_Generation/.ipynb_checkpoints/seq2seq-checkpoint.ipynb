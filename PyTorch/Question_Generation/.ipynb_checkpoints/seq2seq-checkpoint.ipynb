{
 "cells": [
  {
   "cell_type": "code",
   "execution_count": 142,
   "metadata": {},
   "outputs": [],
   "source": [
    "import re\n",
    "import numpy as np\n",
    "from tqdm import tqdm\n",
    "import mmap\n",
    "import time"
   ]
  },
  {
   "cell_type": "code",
   "execution_count": 3,
   "metadata": {},
   "outputs": [],
   "source": [
    "question_path='data/question.txt'\n",
    "sentence_path='data/sentence.txt'\n",
    "embs_path='data/embs.npy'"
   ]
  },
  {
   "cell_type": "code",
   "execution_count": 72,
   "metadata": {},
   "outputs": [],
   "source": [
    "def get_num_lines(file_path):\n",
    "    fp = open(file_path, \"r+\")\n",
    "    buf = mmap.mmap(fp.fileno(), 0)\n",
    "    lines = 0\n",
    "    while buf.readline():\n",
    "        lines += 1\n",
    "    fp.close()\n",
    "    return lines\n",
    "\n",
    "def parse_words(filen_name):\n",
    "    with open(filen_name,\"r\") as file:\n",
    "        text = re.sub(r'\\W+', ' ', file.read())\n",
    "        text = re.sub(r' +',' ',text)\n",
    "        return set(text.split())\n",
    "\n",
    "def create_words_dict():\n",
    "    q_words=parse_words(question_path)\n",
    "    s_words=parse_words(sentence_path)\n",
    "    words=q_words.union(s_words)\n",
    "    id_2_word=dict(enumerate(words))\n",
    "    return id_2_word,dict(zip(id_2_word.values(), id_2_word.keys()))\n",
    "\n",
    "def str_2_id(x):\n",
    "    return word_2_id[x]\n",
    "\n",
    "def prepare_data(text):\n",
    "    X=[]\n",
    "    with open(text,'r') as f:\n",
    "        for line in tqdm(f,total=get_num_lines(text)):\n",
    "            line = re.sub(r'\\W+', ' ', line)\n",
    "            line = re.sub(r' +',' ',line)\n",
    "            X.append(np.array(list(map(str_2_id,line.split()))+[eos_token]))\n",
    "        \n",
    "    \n",
    "    return np.array(X)"
   ]
  },
  {
   "cell_type": "code",
   "execution_count": 99,
   "metadata": {},
   "outputs": [
    {
     "name": "stdout",
     "output_type": "stream",
     "text": [
      "> Vocab Len :  64940\n",
      "> Embs Shape :  (64940, 300)\n"
     ]
    }
   ],
   "source": [
    "id_2_word,word_2_id=create_words_dict()\n",
    "embeddings=np.load(embs_path)\n",
    "embeddings=np.vstack([embeddings,np.zeros([1,300])])\n",
    "embeddings=np.vstack([embeddings,np.zeros([1,300])])\n",
    "print('> Vocab Len : ',len(id_2_word)+2)\n",
    "eos_token=len(id_2_word)\n",
    "sos_token=len(id_2_word)+1\n",
    "vocab_size=len(id_2_word)+2\n",
    "print('> Embs Shape : ',embeddings.shape)"
   ]
  },
  {
   "cell_type": "code",
   "execution_count": 100,
   "metadata": {},
   "outputs": [
    {
     "name": "stderr",
     "output_type": "stream",
     "text": [
      "  3%|▎         | 2218/70484 [00:00<00:03, 22174.21it/s]"
     ]
    },
    {
     "name": "stdout",
     "output_type": "stream",
     "text": [
      "> Loading Questions \n"
     ]
    },
    {
     "name": "stderr",
     "output_type": "stream",
     "text": [
      "100%|██████████| 70484/70484 [00:01<00:00, 38105.41it/s]\n",
      "  6%|▌         | 4282/70484 [00:00<00:03, 21402.90it/s]"
     ]
    },
    {
     "name": "stdout",
     "output_type": "stream",
     "text": [
      "> Loading Sentences \n"
     ]
    },
    {
     "name": "stderr",
     "output_type": "stream",
     "text": [
      "100%|██████████| 70484/70484 [00:03<00:00, 21699.33it/s]\n"
     ]
    }
   ],
   "source": [
    "print('> Loading Questions ')\n",
    "Qs=prepare_data(question_path)\n",
    "print('> Loading Sentences ')\n",
    "As=prepare_data(sentence_path)"
   ]
  },
  {
   "cell_type": "code",
   "execution_count": 8,
   "metadata": {},
   "outputs": [],
   "source": [
    "import torch\n",
    "import torch.nn as nn\n",
    "from torch.autograd import Variable\n",
    "from torch import optim\n",
    "import torch.nn.functional as F"
   ]
  },
  {
   "cell_type": "code",
   "execution_count": 101,
   "metadata": {},
   "outputs": [],
   "source": [
    "class Encoder(nn.Module):\n",
    "    def __init__(self,input_size,hidden_size,embs):\n",
    "        super(Encoder,self).__init__()\n",
    "        self.hidden_size=hidden_size\n",
    "        self.embedding=nn.Embedding(input_size,hidden_size)\n",
    "        self.embedding.weight.data.copy_(torch.from_numpy(embs))\n",
    "        self.gru=nn.GRU(hidden_size,hidden_size)\n",
    "    \n",
    "    def forward(self,inputt,hidden):\n",
    "        embedded=self.embedding(inputt).view(1,1,-1)\n",
    "        output=embedded\n",
    "        output,hidden=self.gru(output,hidden)\n",
    "        return output,hidden\n",
    "\n",
    "    def init_hidden(self):\n",
    "        result=Variable(torch.zeros(1,1,self.hidden_size))\n",
    "        return result\n",
    "    \n",
    "    \n",
    "    "
   ]
  },
  {
   "cell_type": "code",
   "execution_count": 140,
   "metadata": {},
   "outputs": [],
   "source": [
    "# test Encoder\n",
    "input_size=vocab_size\n",
    "hidden_size=300\n",
    "\n",
    "enc=Encoder(input_size,hidden_size,embeddings)\n",
    "enc_hidden=enc.init_hidden()\n"
   ]
  },
  {
   "cell_type": "code",
   "execution_count": 141,
   "metadata": {},
   "outputs": [
    {
     "name": "stdout",
     "output_type": "stream",
     "text": [
      "torch.Size([1])\n",
      "torch.Size([1, 1, 300])\n"
     ]
    }
   ],
   "source": [
    "sentence=Variable(torch.from_numpy(As[0])).view(-1,1)\n",
    "print(sentence[0].size())\n",
    "# print(sentence[:,0])\n",
    "# # print(sentence[0].view(1,1,-1))\n",
    "for i in range(As[0].shape[0]):\n",
    "    _,enc_hidden=enc.forward(sentence[i],enc_hidden)\n",
    "\n",
    "print(enc_output.shape)\n",
    "\n"
   ]
  },
  {
   "cell_type": "code",
   "execution_count": 130,
   "metadata": {},
   "outputs": [],
   "source": [
    "class Decoder(nn.Module):\n",
    "    def __init__(self,hidden_size,output_size,embs):\n",
    "        super(Decoder,self).__init__()\n",
    "        self.hidden_size=hidden_size\n",
    "        self.embedding=nn.Embedding(input_size,hidden_size)\n",
    "        self.embedding.weight.data.copy_(torch.from_numpy(embs))\n",
    "        self.gru=nn.GRU(hidden_size,hidden_size)\n",
    "        self.out=nn.Linear(hidden_size,output_size)\n",
    "        self.softmax=nn.LogSoftmax(dim=1)\n",
    "    \n",
    "    def forward(self,inputt,hidden):\n",
    "        output=self.embedding(inputt).view(1,1,-1)\n",
    "        output=F.relu(output)\n",
    "        output,hidden=self.gru(output,hidden)\n",
    "        output=self.out(output[0])\n",
    "        output=self.softmax(output)\n",
    "        return output,hidden    "
   ]
  },
  {
   "cell_type": "code",
   "execution_count": 131,
   "metadata": {},
   "outputs": [],
   "source": [
    "dec=Decoder(hidden_size,input_size,embeddings)"
   ]
  },
  {
   "cell_type": "code",
   "execution_count": 134,
   "metadata": {},
   "outputs": [
    {
     "name": "stdout",
     "output_type": "stream",
     "text": [
      "torch.Size([1])\n",
      "torch.Size([1, 64940])\n"
     ]
    }
   ],
   "source": [
    "sos=Variable(torch.LongTensor([input_size-1])).view(-1,1)\n",
    "print(sos[0].size())\n",
    "dec.embedding(sos[0]).view(1,-1,1)\n",
    "o,h=dec.forward(sos[0],enc_hidden)\n",
    "print(o.shape)"
   ]
  },
  {
   "cell_type": "code",
   "execution_count": 30,
   "metadata": {},
   "outputs": [
    {
     "data": {
      "text/plain": [
       "array([ 1.,  2., 25.], dtype=float32)"
      ]
     },
     "execution_count": 30,
     "metadata": {},
     "output_type": "execute_result"
    }
   ],
   "source": [
    "x = np.array([1, 2, 25])\n",
    "x=x.astype('float32')\n",
    "x"
   ]
  },
  {
   "cell_type": "code",
   "execution_count": 136,
   "metadata": {},
   "outputs": [],
   "source": [
    "def train(sentence,question,encoder,decoder,enc_opt,dec_opt,criterion,max_length=100):\n",
    "    t=time.time()\n",
    "    encoder_hidden=encoder.init_hidden()\n",
    "    \n",
    "    enc_opt.zero_grad()\n",
    "    dec_opt.zero_grad()\n",
    "    \n",
    "    sentence=Variable(torch.from_numpy(sentence)).view(-1,1)\n",
    "    question=Variable(torch.from_numpy(question)).view(-1,1)\n",
    "    \n",
    "    s_len=sentence.size()[0]\n",
    "    q_len=question.size()[0]\n",
    "    \n",
    "    loss=0\n",
    "    for ei in range(s_len):\n",
    "        encoder_output,encoder_hidden=encoder.forward(sentence[ei],encoder_hidden)\n",
    "    \n",
    "    te=time.time()\n",
    "    print('encoder forward',te-t)\n",
    "    sos=Variable(torch.LongTensor([input_size-1])).view(-1,1)\n",
    "    decoder_hidden=encoder_hidden\n",
    "    \n",
    "    for di in range(q_len):\n",
    "        decoder_output,decoder_hidden=decoder(sos,decoder_hidden)\n",
    "        topv, topi = decoder_output.data.topk(1)\n",
    "        ni = topi[0][0]\n",
    "        loss+=criterion(decoder_output,question[di])\n",
    "    \n",
    "        if ni==eos_token:\n",
    "            break\n",
    "    \n",
    "    loss.backward()\n",
    "    \n",
    "    enc_opt.step()\n",
    "    dec_opt.step()\n",
    "    \n",
    "    return loss.data[0]/q_len"
   ]
  },
  {
   "cell_type": "code",
   "execution_count": 138,
   "metadata": {},
   "outputs": [
    {
     "name": "stderr",
     "output_type": "stream",
     "text": [
      "\n",
      "  0%|          | 0/70484 [00:00<?, ?it/s]\u001b[A\n",
      "  0%|          | 1/70484 [00:00<16:29:06,  1.19it/s]\u001b[A"
     ]
    },
    {
     "name": "stdout",
     "output_type": "stream",
     "text": [
      "Loss :  0.11062356948852539\n"
     ]
    },
    {
     "name": "stderr",
     "output_type": "stream",
     "text": [
      "\n",
      "  0%|          | 2/70484 [00:01<15:49:59,  1.24it/s]\u001b[A\n",
      "  0%|          | 3/70484 [00:02<14:35:50,  1.34it/s]\u001b[A\n",
      "Exception in thread Thread-14:\n",
      "Traceback (most recent call last):\n",
      "  File \"/usr/lib/python3.5/threading.py\", line 914, in _bootstrap_inner\n",
      "    self.run()\n",
      "  File \"/home/arijitx/.local/lib/python3.5/site-packages/tqdm/_tqdm.py\", line 144, in run\n",
      "    for instance in self.tqdm_cls._instances:\n",
      "  File \"/usr/lib/python3.5/_weakrefset.py\", line 60, in __iter__\n",
      "    for itemref in self.data:\n",
      "RuntimeError: Set changed size during iteration\n",
      "\n",
      "  0%|          | 101/70484 [01:21<15:45:20,  1.24it/s]"
     ]
    },
    {
     "name": "stdout",
     "output_type": "stream",
     "text": [
      "Loss :  8.38737415243744\n"
     ]
    },
    {
     "name": "stderr",
     "output_type": "stream",
     "text": [
      "  0%|          | 201/70484 [02:42<15:49:00,  1.23it/s]"
     ]
    },
    {
     "name": "stdout",
     "output_type": "stream",
     "text": [
      "Loss :  5.320705669099673\n"
     ]
    },
    {
     "name": "stderr",
     "output_type": "stream",
     "text": [
      "  0%|          | 301/70484 [03:56<15:19:38,  1.27it/s]"
     ]
    },
    {
     "name": "stdout",
     "output_type": "stream",
     "text": [
      "Loss :  4.831473617442605\n"
     ]
    },
    {
     "name": "stderr",
     "output_type": "stream",
     "text": [
      "  1%|          | 401/70484 [05:08<14:58:12,  1.30it/s]"
     ]
    },
    {
     "name": "stdout",
     "output_type": "stream",
     "text": [
      "Loss :  4.66480626704426\n"
     ]
    },
    {
     "name": "stderr",
     "output_type": "stream",
     "text": [
      "  1%|          | 408/70484 [05:13<14:56:10,  1.30it/s]\n"
     ]
    },
    {
     "ename": "KeyboardInterrupt",
     "evalue": "",
     "output_type": "error",
     "traceback": [
      "\u001b[0;31m---------------------------------------------------------------------------\u001b[0m",
      "\u001b[0;31mKeyboardInterrupt\u001b[0m                         Traceback (most recent call last)",
      "\u001b[0;32m<ipython-input-138-0197e4d0a37e>\u001b[0m in \u001b[0;36m<module>\u001b[0;34m()\u001b[0m\n\u001b[1;32m     13\u001b[0m \u001b[0mloss\u001b[0m\u001b[0;34m=\u001b[0m\u001b[0;36m0\u001b[0m\u001b[0;34m\u001b[0m\u001b[0m\n\u001b[1;32m     14\u001b[0m \u001b[0;32mfor\u001b[0m \u001b[0mi\u001b[0m \u001b[0;32min\u001b[0m \u001b[0mtqdm\u001b[0m\u001b[0;34m(\u001b[0m\u001b[0mrange\u001b[0m\u001b[0;34m(\u001b[0m\u001b[0mQs\u001b[0m\u001b[0;34m.\u001b[0m\u001b[0mshape\u001b[0m\u001b[0;34m[\u001b[0m\u001b[0;36m0\u001b[0m\u001b[0;34m]\u001b[0m\u001b[0;34m)\u001b[0m\u001b[0;34m)\u001b[0m\u001b[0;34m:\u001b[0m\u001b[0;34m\u001b[0m\u001b[0m\n\u001b[0;32m---> 15\u001b[0;31m     \u001b[0mloss\u001b[0m \u001b[0;34m+=\u001b[0m \u001b[0mtrain\u001b[0m\u001b[0;34m(\u001b[0m\u001b[0mAs\u001b[0m\u001b[0;34m[\u001b[0m\u001b[0mi\u001b[0m\u001b[0;34m]\u001b[0m\u001b[0;34m,\u001b[0m\u001b[0mQs\u001b[0m\u001b[0;34m[\u001b[0m\u001b[0mi\u001b[0m\u001b[0;34m]\u001b[0m\u001b[0;34m,\u001b[0m\u001b[0menc\u001b[0m\u001b[0;34m,\u001b[0m\u001b[0mdec\u001b[0m\u001b[0;34m,\u001b[0m\u001b[0menc_opt\u001b[0m\u001b[0;34m,\u001b[0m\u001b[0mdec_opt\u001b[0m\u001b[0;34m,\u001b[0m\u001b[0mcriterion\u001b[0m\u001b[0;34m)\u001b[0m\u001b[0;34m\u001b[0m\u001b[0m\n\u001b[0m\u001b[1;32m     16\u001b[0m     \u001b[0;32mif\u001b[0m\u001b[0;34m(\u001b[0m\u001b[0mi\u001b[0m\u001b[0;34m%\u001b[0m\u001b[0mprint_every\u001b[0m\u001b[0;34m==\u001b[0m\u001b[0;36m0\u001b[0m\u001b[0;34m)\u001b[0m\u001b[0;34m:\u001b[0m\u001b[0;34m\u001b[0m\u001b[0m\n\u001b[1;32m     17\u001b[0m         \u001b[0mprint\u001b[0m\u001b[0;34m(\u001b[0m\u001b[0;34m'Loss : '\u001b[0m\u001b[0;34m,\u001b[0m\u001b[0mloss\u001b[0m\u001b[0;34m/\u001b[0m\u001b[0mprint_every\u001b[0m\u001b[0;34m)\u001b[0m\u001b[0;34m\u001b[0m\u001b[0m\n",
      "\u001b[0;32m<ipython-input-136-b201ee873748>\u001b[0m in \u001b[0;36mtrain\u001b[0;34m(sentence, question, encoder, decoder, enc_opt, dec_opt, criterion, max_length)\u001b[0m\n\u001b[1;32m     27\u001b[0m             \u001b[0;32mbreak\u001b[0m\u001b[0;34m\u001b[0m\u001b[0m\n\u001b[1;32m     28\u001b[0m \u001b[0;34m\u001b[0m\u001b[0m\n\u001b[0;32m---> 29\u001b[0;31m     \u001b[0mloss\u001b[0m\u001b[0;34m.\u001b[0m\u001b[0mbackward\u001b[0m\u001b[0;34m(\u001b[0m\u001b[0;34m)\u001b[0m\u001b[0;34m\u001b[0m\u001b[0m\n\u001b[0m\u001b[1;32m     30\u001b[0m \u001b[0;34m\u001b[0m\u001b[0m\n\u001b[1;32m     31\u001b[0m     \u001b[0menc_opt\u001b[0m\u001b[0;34m.\u001b[0m\u001b[0mstep\u001b[0m\u001b[0;34m(\u001b[0m\u001b[0;34m)\u001b[0m\u001b[0;34m\u001b[0m\u001b[0m\n",
      "\u001b[0;32m~/.local/lib/python3.5/site-packages/torch/autograd/variable.py\u001b[0m in \u001b[0;36mbackward\u001b[0;34m(self, gradient, retain_graph, create_graph, retain_variables)\u001b[0m\n\u001b[1;32m    165\u001b[0m                 \u001b[0mVariable\u001b[0m\u001b[0;34m.\u001b[0m\u001b[0;34m\u001b[0m\u001b[0m\n\u001b[1;32m    166\u001b[0m         \"\"\"\n\u001b[0;32m--> 167\u001b[0;31m         \u001b[0mtorch\u001b[0m\u001b[0;34m.\u001b[0m\u001b[0mautograd\u001b[0m\u001b[0;34m.\u001b[0m\u001b[0mbackward\u001b[0m\u001b[0;34m(\u001b[0m\u001b[0mself\u001b[0m\u001b[0;34m,\u001b[0m \u001b[0mgradient\u001b[0m\u001b[0;34m,\u001b[0m \u001b[0mretain_graph\u001b[0m\u001b[0;34m,\u001b[0m \u001b[0mcreate_graph\u001b[0m\u001b[0;34m,\u001b[0m \u001b[0mretain_variables\u001b[0m\u001b[0;34m)\u001b[0m\u001b[0;34m\u001b[0m\u001b[0m\n\u001b[0m\u001b[1;32m    168\u001b[0m \u001b[0;34m\u001b[0m\u001b[0m\n\u001b[1;32m    169\u001b[0m     \u001b[0;32mdef\u001b[0m \u001b[0mregister_hook\u001b[0m\u001b[0;34m(\u001b[0m\u001b[0mself\u001b[0m\u001b[0;34m,\u001b[0m \u001b[0mhook\u001b[0m\u001b[0;34m)\u001b[0m\u001b[0;34m:\u001b[0m\u001b[0;34m\u001b[0m\u001b[0m\n",
      "\u001b[0;32m~/.local/lib/python3.5/site-packages/torch/autograd/__init__.py\u001b[0m in \u001b[0;36mbackward\u001b[0;34m(variables, grad_variables, retain_graph, create_graph, retain_variables)\u001b[0m\n\u001b[1;32m     97\u001b[0m \u001b[0;34m\u001b[0m\u001b[0m\n\u001b[1;32m     98\u001b[0m     Variable._execution_engine.run_backward(\n\u001b[0;32m---> 99\u001b[0;31m         variables, grad_variables, retain_graph)\n\u001b[0m\u001b[1;32m    100\u001b[0m \u001b[0;34m\u001b[0m\u001b[0m\n\u001b[1;32m    101\u001b[0m \u001b[0;34m\u001b[0m\u001b[0m\n",
      "\u001b[0;31mKeyboardInterrupt\u001b[0m: "
     ]
    }
   ],
   "source": [
    "input_size=vocab_size\n",
    "hidden_size=300\n",
    "\n",
    "enc=Encoder(input_size,hidden_size,embeddings)\n",
    "dec=Decoder(hidden_size,input_size,embeddings)\n",
    "\n",
    "enc_opt=optim.SGD(enc.parameters(),lr=0.01)\n",
    "dec_opt=optim.SGD(dec.parameters(),lr=0.01)\n",
    "\n",
    "criterion=nn.NLLLoss()\n",
    "\n",
    "print_every=100\n",
    "loss=0\n",
    "for i in tqdm(range(Qs.shape[0])):\n",
    "    loss += train(As[i],Qs[i],enc,dec,enc_opt,dec_opt,criterion)\n",
    "    break\n",
    "    if(i%print_every==0):\n",
    "        print('Loss : ',loss/print_every)\n",
    "        loss=0"
   ]
  },
  {
   "cell_type": "code",
   "execution_count": 147,
   "metadata": {},
   "outputs": [
    {
     "data": {
      "text/plain": [
       "151.96451146258937"
      ]
     },
     "execution_count": 147,
     "metadata": {},
     "output_type": "execute_result"
    }
   ],
   "source": []
  }
 ],
 "metadata": {
  "kernelspec": {
   "display_name": "Python 3",
   "language": "python",
   "name": "python3"
  },
  "language_info": {
   "codemirror_mode": {
    "name": "ipython",
    "version": 3
   },
   "file_extension": ".py",
   "mimetype": "text/x-python",
   "name": "python",
   "nbconvert_exporter": "python",
   "pygments_lexer": "ipython3",
   "version": "3.5.2"
  }
 },
 "nbformat": 4,
 "nbformat_minor": 2
}
